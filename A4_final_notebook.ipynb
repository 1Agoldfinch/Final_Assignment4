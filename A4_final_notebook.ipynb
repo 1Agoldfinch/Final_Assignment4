{
 "cells": [
  {
   "cell_type": "markdown",
   "id": "00a8f017",
   "metadata": {},
   "source": [
    "# Assignment A3\n",
    "This Jupyter Notebook file is very simple. First, a shapefile is loaded using\n",
    "GeoPandas and then visualized."
   ]
  },
  {
   "cell_type": "code",
   "execution_count": null,
   "id": "4b442820",
   "metadata": {},
   "outputs": [],
   "source": [
    "import geopandas as gpd\n",
    "FILE = \"C:\\projects\\python\\A4\\Shapefile\\BIOREGION.shp\"\n",
    "gdf = gpd.read_file(FILE)"
   ]
  },
  {
   "cell_type": "code",
   "execution_count": null,
   "id": "a8347d9a",
   "metadata": {},
   "outputs": [],
   "source": [
    "gdf.explore()"
   ]
  }
 ],
 "metadata": {
  "kernelspec": {
   "display_name": "base",
   "language": "python",
   "name": "python3"
  },
  "language_info": {
   "name": "python",
   "version": "3.12.7"
  }
 },
 "nbformat": 4,
 "nbformat_minor": 5
}
